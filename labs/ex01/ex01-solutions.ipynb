{
 "cells": [
  {
   "cell_type": "code",
   "execution_count": 2,
   "metadata": {
    "collapsed": true
   },
   "outputs": [],
   "source": [
    "import numpy as np"
   ]
  },
  {
   "cell_type": "markdown",
   "metadata": {},
   "source": [
    "# Task A"
   ]
  },
  {
   "cell_type": "code",
   "execution_count": 10,
   "metadata": {
    "collapsed": false
   },
   "outputs": [],
   "source": [
    "def standardize(M):\n",
    "    \"\"\"M is a n-by-d matrix, returns an n-by-d matrix where each column has 0 mean and unitary variance\"\"\"\n",
    "    R = np.zeros(M.shape)\n",
    "    for d in range(M.shape[1]):\n",
    "        R[:,d] = (M[:,d] - np.mean(M[:,d]) )/np.std(M[:,d])\n",
    "    return R"
   ]
  },
  {
   "cell_type": "code",
   "execution_count": 8,
   "metadata": {
    "collapsed": false
   },
   "outputs": [
    {
     "name": "stdout",
     "output_type": "stream",
     "text": [
      "column  0  mean  -0.531434712419  var  4.39493731368\n",
      "column  1  mean  -0.250416085738  var  6.84750178658\n",
      "column  2  mean  0.363353471541  var  5.05776960459\n"
     ]
    }
   ],
   "source": [
    "A = np.random.uniform(-4,4,(30,3))\n",
    "for d in range(A.shape[1]):\n",
    "    print \"column \", d, \" mean \", np.mean(A[:,d]), \" var \", np.std(A[:,d])**2"
   ]
  },
  {
   "cell_type": "code",
   "execution_count": 12,
   "metadata": {
    "collapsed": false
   },
   "outputs": [
    {
     "name": "stdout",
     "output_type": "stream",
     "text": [
      "column  0  mean  -6.66133814775e-17  var  1.0\n",
      "column  1  mean  -7.40148683083e-18  var  1.0\n",
      "column  2  mean  -7.40148683083e-18  var  1.0\n"
     ]
    }
   ],
   "source": [
    "B = standardize(A)\n",
    "for d in range(B.shape[1]):\n",
    "    print \"column \", d, \" mean \", np.mean(B[:,d]), \" var \", np.std(B[:,d])**2"
   ]
  },
  {
   "cell_type": "markdown",
   "metadata": {},
   "source": [
    "# Task C"
   ]
  },
  {
   "cell_type": "code",
   "execution_count": 65,
   "metadata": {
    "collapsed": false
   },
   "outputs": [],
   "source": [
    "class Gauss_model:\n",
    "    def __init__(self, mean, cov):\n",
    "        self.mean = mean\n",
    "        self.cov = cov\n",
    "        self.det = np.linalg.det(self.cov)\n",
    "        self.invcov = np.linalg.inv(self.cov)\n",
    "\n",
    "    def get_single_likelihood(self, x):\n",
    "        \"\"\"returns the likelihood of observing x given the model\"\"\"\n",
    "        d = x.shape[0]\n",
    "        fac = 1./( ((2.0*np.pi)**(d/2))* np.sqrt(self.det) )\n",
    "        return fac*np.exp( -0.5*(x - self.mean).dot( self.invcov.dot(x - self.mean) ) )\n",
    "\n",
    "    def get_likelihood(self,X):\n",
    "        \"\"\"applies the get_single_likelihood to every row of X\"\"\"\n",
    "        R = np.apply_along_axis(self.get_single_likelihood, 1, X)\n",
    "        return R\n",
    "    \n",
    "def assign_labels (X,theta):\n",
    "    \"\"\"X is an n-by-d observation matrix (each row is an observation), theta is a list of Gauss_model instances\"\"\"\n",
    "    likelihoods = list()\n",
    "    for model in theta:\n",
    "        likelihoods.append( model.get_likelihood(X) )\n",
    "    likelihoods = np.asarray(likelihoods)\n",
    "    \n",
    "    return np.argmax( likelihoods, axis=0)"
   ]
  },
  {
   "cell_type": "code",
   "execution_count": 77,
   "metadata": {
    "collapsed": false
   },
   "outputs": [
    {
     "name": "stdout",
     "output_type": "stream",
     "text": [
      "accuracy:  88.1 %\n"
     ]
    }
   ],
   "source": [
    "CV = np.random.uniform(0,2,(2,2))\n",
    "Gm1 = Gauss_model( [0,1], CV.dot(CV) )\n",
    "Gm2 = Gauss_model([1,0], CV.dot(CV) )\n",
    "#print Gm1.get_likelihood(np.array([[0,1], [1,1]]))\n",
    "#print Gm2.get_likelihood(np.array([[0,1], [1,1]]))\n",
    "\n",
    "sample_size = 1000\n",
    "G = np.random.multivariate_normal( [0,1], CV.dot(CV), sample_size)\n",
    "\n",
    "L = assign_labels(G, [Gm1,Gm2])\n",
    "#print L\n",
    "print \"accuracy: \", 100.0*float(sample_size - L.sum() )/float(sample_size), \"%\""
   ]
  }
 ],
 "metadata": {
  "kernelspec": {
   "display_name": "Python 2",
   "language": "python",
   "name": "python2"
  },
  "language_info": {
   "codemirror_mode": {
    "name": "ipython",
    "version": 2
   },
   "file_extension": ".py",
   "mimetype": "text/x-python",
   "name": "python",
   "nbconvert_exporter": "python",
   "pygments_lexer": "ipython2",
   "version": "2.7.12"
  }
 },
 "nbformat": 4,
 "nbformat_minor": 1
}
