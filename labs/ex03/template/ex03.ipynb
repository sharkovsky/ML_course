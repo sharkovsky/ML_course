{
 "cells": [
  {
   "cell_type": "code",
   "execution_count": 1,
   "metadata": {
    "collapsed": false
   },
   "outputs": [],
   "source": [
    "# Useful starting lines\n",
    "%matplotlib inline\n",
    "import numpy as np\n",
    "import matplotlib.pyplot as plt\n",
    "%load_ext autoreload\n",
    "%autoreload 2"
   ]
  },
  {
   "cell_type": "markdown",
   "metadata": {},
   "source": [
    "# Least squares and linear basis functions models\n",
    "## Least squares"
   ]
  },
  {
   "cell_type": "code",
   "execution_count": 2,
   "metadata": {
    "collapsed": false
   },
   "outputs": [],
   "source": [
    "def least_squares(y, tx):\n",
    "    \"\"\"calculate the least squares solution.\"\"\"\n",
    "    N = len(y)\n",
    "    w = np.dot(np.linalg.inv(np.dot(tx.T,tx)) , np.dot(tx.T,y))\n",
    "    mse = 1/(2*N)*np.sum((y- np.dot(tx,w))**2)\n",
    "    # Print the results\n",
    "    print(\"Least Squares: loss*={l}, w0*={w0}, w1*={w1}\".format(\n",
    "            l=mse, w0=w[0], w1=w[1]))\n",
    "    return mse, w"
   ]
  },
  {
   "cell_type": "markdown",
   "metadata": {},
   "source": [
    "### Load the data\n",
    "Here we will reuse the dataset `height_weight_genders.csv` from previous exercise section to check the correctness of your implementation. Please compare it with your previous result."
   ]
  },
  {
   "cell_type": "code",
   "execution_count": 3,
   "metadata": {
    "collapsed": false
   },
   "outputs": [
    {
     "name": "stdout",
     "output_type": "stream",
     "text": [
      "Least Squares: loss*=15.385887868829402, w0*=73.29392200210505, w1*=13.479712434989228\n",
      "Grid Search: loss*=20.759339381144258, w0*=75.86206896551724, w1*=15.517241379310349\n"
     ]
    }
   ],
   "source": [
    "from helpers import *\n",
    "from grid_search import generate_w, get_best_parameters\n",
    "\n",
    "def compute_loss(y, tx, w):\n",
    "    \"\"\"Calculate the loss.\n",
    "    You can calculate the loss using mse or mae.\n",
    "    \"\"\"\n",
    "    N = len(y)\n",
    "    fx_n = tx.dot(w.T) #Multiple Linear Regression\n",
    "    L = 1/(2*N) * (sum((y-fx_n)**2))  #for MSE\n",
    "    #L = 1/N * (sum(np.absolute(y-fx_n))) #for MAE\n",
    "    #print (L)\n",
    "    return L\n",
    "\n",
    "def grid_search(y, tx, w0, w1):\n",
    "    \"\"\"Algorithm for grid search.\"\"\"\n",
    "    losses = np.zeros(shape=(len(w0), len(w1)))  #matrix of all possible values of loss\n",
    "    \n",
    "    #w0 and w1 are already populated by grid_help.py :: generate_w\n",
    "    for i0 in range(0,len(w0)):\n",
    "        for i1 in range(0,len(w1)):\n",
    "            weights = np.array([w0[i0], w1[i1]])\n",
    "            losses[i0, i1] = compute_loss(y, tx, weights)\n",
    "\n",
    "    return losses\n",
    "\n",
    "def do_grid_search(y, tx):\n",
    "    #linear reg: tx = w0 + w1d1 where w0=1 (linear regression)\n",
    "    grid_w0, grid_w1 = generate_w(num_intervals=30)\n",
    "    grid_losses = grid_search(y, tx, grid_w0, grid_w1)\n",
    "    loss_star, w0_star, w1_star = get_best_parameters(grid_w0, grid_w1, grid_losses)\n",
    "    \n",
    "    # Print the results\n",
    "    print(\"Grid Search: loss*={l}, w0*={w0}, w1*={w1}\".format(\n",
    "            l=loss_star, w0=w0_star, w1=w1_star))\n",
    "\n",
    "    # Plot the results\n",
    "    #fig = grid_visualization(grid_losses, grid_w0, grid_w1, mean_x, std_x, height, weight)\n",
    "    #fig.set_size_inches(10.0,6.0)\n",
    "    #fig.savefig(\"grid_plot\")  # Optional saving\n",
    "\n",
    "def test_your_least_squares():\n",
    "    height, weight, gender = load_data_from_ex02(sub_sample=False, add_outlier=False)\n",
    "    x, mean_x, std_x = standardize(height)\n",
    "    y, tx = build_model_data(x, weight)\n",
    "    mse, w = least_squares(y,tx) #w has dim 2, w[0] is w0 and w[1] is w1\n",
    "    do_grid_search(y, tx)\n",
    "\n",
    "test_your_least_squares()"
   ]
  },
  {
   "cell_type": "markdown",
   "metadata": {},
   "source": [
    "## Least squares with a linear basis function model\n",
    "Start from this section, we will use the dataset `dataEx3.csv`.\n",
    "\n",
    "### Implement polynomial basis functions"
   ]
  },
  {
   "cell_type": "code",
   "execution_count": 4,
   "metadata": {
    "collapsed": false,
    "scrolled": true
   },
   "outputs": [
    {
     "name": "stdout",
     "output_type": "stream",
     "text": [
      "shape of x (50,)\n",
      "shape of y (50,)\n"
     ]
    }
   ],
   "source": [
    "# load dataset\n",
    "x, y = load_data()\n",
    "print(\"shape of x {}\".format(x.shape))\n",
    "print(\"shape of y {}\".format(y.shape))"
   ]
  },
  {
   "cell_type": "code",
   "execution_count": 16,
   "metadata": {
    "collapsed": true
   },
   "outputs": [],
   "source": [
    "def build_poly(x, degree):\n",
    "    \"\"\"polynomial basis functions for input data x, for j=0 up to j=degree.\"\"\"\n",
    "    basis_matrix = np.zeros(shape=(len(x), degree+1))\n",
    "    for i in range(0,len(x)):\n",
    "        for j in range(0,degree+1):\n",
    "            basis_matrix[i,j] = x[i]**j \n",
    "    return basis_matrix"
   ]
  },
  {
   "cell_type": "markdown",
   "metadata": {},
   "source": [
    "Let us play with polynomial regression. Note that we will use your implemented function `compute_mse`. Please copy and paste your implementation from exercise02."
   ]
  },
  {
   "cell_type": "code",
   "execution_count": 18,
   "metadata": {
    "collapsed": false
   },
   "outputs": [
    {
     "name": "stdout",
     "output_type": "stream",
     "text": [
      "Least Squares: loss*=0.11133351726547978, w0*=0.8343183464933548, w1*=-0.2897661680224678\n",
      "Processing 1th experiment, degree=1, rmse=0.47187607963421874\n",
      "Least Squares: loss*=0.03343252619709059, w0*=-0.11521168588068775, w1*=1.5846646935074276\n",
      "Processing 2th experiment, degree=3, rmse=0.258582776677375\n",
      "Least Squares: loss*=0.031164734143886333, w0*=0.3223566349151952, w1*=-0.40599016917985864\n",
      "Processing 3th experiment, degree=7, rmse=0.24965870360909242\n",
      "Least Squares: loss*=0.03333190367387615, w0*=0.8499421998858452, w1*=-3.7761071920394897\n",
      "Processing 4th experiment, degree=12, rmse=0.25819335264052073\n"
     ]
    },
    {
     "data": {
      "image/png": "[encoded data removed]",
      "text/plain": [
       "<matplotlib.figure.Figure at 0x10a63ac18>"
      ]
     },
     "metadata": {},
     "output_type": "display_data"
    }
   ],
   "source": [
    "from plots import *\n",
    "import math\n",
    "\n",
    "def polynomial_regression():\n",
    "    \"\"\"Constructing the polynomial basis function expansion of the data,\n",
    "       and then running least squares regression.\"\"\"\n",
    "    # define parameters\n",
    "    degrees = [1, 3, 7, 12]\n",
    "    \n",
    "    # define the structure of figure\n",
    "    num_row = 2\n",
    "    num_col = 2\n",
    "    f, axs = plt.subplots(num_row, num_col)\n",
    "\n",
    "    for ind, degree in enumerate(degrees):\n",
    "        basis_matrix = build_poly(x, degree)\n",
    "        #print (basis_matrix[:5,:2])\n",
    "        mse, w = least_squares(y, basis_matrix)\n",
    "        rmse = math.sqrt(2*mse) #from tutorial pdf\n",
    "        \n",
    "        print(\"Processing {i}th experiment, degree={d}, rmse={loss}\".format(\n",
    "              i=ind + 1, d=degree, loss=rmse))\n",
    "        # plot fit\n",
    "        plot_fitted_curve(\n",
    "            y, x, w, degree, axs[ind // num_col][ind % num_col])\n",
    "    plt.tight_layout()\n",
    "    plt.savefig(\"visualize_polynomial_regression\")\n",
    "    plt.show()\n",
    "\n",
    "\n",
    "polynomial_regression()"
   ]
  },
  {
   "cell_type": "markdown",
   "metadata": {},
   "source": [
    "# Evaluating model predication performance\n",
    "\n",
    "Let us show the train and test splits for various polynomial degrees. First of all, please fill in the function `split_data()`"
   ]
  },
  {
   "cell_type": "code",
   "execution_count": 26,
   "metadata": {
    "collapsed": true
   },
   "outputs": [],
   "source": [
    "import random\n",
    "\n",
    "def split_data(x, y, ratio, seed=1):\n",
    "    \"\"\"split the dataset based on the split ratio.\"\"\"\n",
    "    # set seed\n",
    "    np.random.seed(seed)\n",
    "    size_data = len(x)*ratio\n",
    "    #random.shuffle(x) #(has to shuffle y accordingly)\n",
    "    x_data = x[:size_data]\n",
    "    y_data = y[:size_data]\n",
    "    x_test = x[size_data:]\n",
    "    y_test = y[size_data:]\n",
    "    return x_data, x_test, y_data, y_test"
   ]
  },
  {
   "cell_type": "markdown",
   "metadata": {},
   "source": [
    "Then, test your `split_data` function below."
   ]
  },
  {
   "cell_type": "code",
   "execution_count": 27,
   "metadata": {
    "collapsed": false
   },
   "outputs": [
    {
     "name": "stdout",
     "output_type": "stream",
     "text": [
      "Least Squares: loss*=0.11898985425518277, w0*=0.8259415934190649, w1*=-0.28324146362806873\n",
      "proportion=0.9, degree=1, Training RMSE=0.488, Testing RMSE=0.296\n",
      "Least Squares: loss*=0.035270345761418895, w0*=-0.11169989342098319, w1*=1.585002706289906\n",
      "proportion=0.9, degree=3, Training RMSE=0.266, Testing RMSE=0.194\n",
      "Least Squares: loss*=0.03294725580722441, w0*=0.35334060179593507, w1*=-0.6409355009964202\n",
      "proportion=0.9, degree=7, Training RMSE=0.257, Testing RMSE=0.186\n",
      "Least Squares: loss*=0.04262688754014317, w0*=1.2455001082271338, w1*=-6.8836265206336975\n",
      "proportion=0.9, degree=12, Training RMSE=0.292, Testing RMSE=0.165\n",
      "Least Squares: loss*=0.10474334583943025, w0*=0.6869805257711731, w1*=-0.21062892272235578\n",
      "proportion=0.5, degree=1, Training RMSE=0.458, Testing RMSE=0.547\n",
      "Least Squares: loss*=0.03401481270687029, w0*=-0.04496930812167932, w1*=1.4320884692096456\n",
      "proportion=0.5, degree=3, Training RMSE=0.261, Testing RMSE=0.267\n",
      "Least Squares: loss*=0.026830721006490924, w0*=0.656286727378756, w1*=-3.2468388893612428\n",
      "proportion=0.5, degree=7, Training RMSE=0.232, Testing RMSE=0.313\n",
      "Least Squares: loss*=0.13894734968688494, w0*=1.8217485323548317, w1*=-28.15285634994507\n",
      "proportion=0.5, degree=12, Training RMSE=0.527, Testing RMSE=0.639\n",
      "Least Squares: loss*=0.17837293072167887, w0*=0.947348476164822, w1*=-0.3651694632834156\n",
      "proportion=0.1, degree=1, Training RMSE=0.597, Testing RMSE=0.497\n",
      "Least Squares: loss*=0.00036650368440179686, w0*=-0.8855121212209021, w1*=3.2364258676423603\n",
      "proportion=0.1, degree=3, Training RMSE=0.027, Testing RMSE=0.447\n",
      "Least Squares: loss*=119.22642439286034, w0*=-19.13671875, w1*=6.171875\n",
      "proportion=0.1, degree=7, Training RMSE=15.442, Testing RMSE=42.524\n",
      "Least Squares: loss*=85.06425431351357, w0*=18.625, w1*=20.5\n",
      "proportion=0.1, degree=12, Training RMSE=13.043, Testing RMSE=2475.302\n"
     ]
    },
    {
     "name": "stderr",
     "output_type": "stream",
     "text": [
      "/Users/bmagalha/anaconda/lib/python3.5/site-packages/ipykernel/__main__.py:9: VisibleDeprecationWarning: using a non-integer number instead of an integer will result in an error in the future\n",
      "/Users/bmagalha/anaconda/lib/python3.5/site-packages/ipykernel/__main__.py:10: VisibleDeprecationWarning: using a non-integer number instead of an integer will result in an error in the future\n",
      "/Users/bmagalha/anaconda/lib/python3.5/site-packages/ipykernel/__main__.py:11: VisibleDeprecationWarning: using a non-integer number instead of an integer will result in an error in the future\n",
      "/Users/bmagalha/anaconda/lib/python3.5/site-packages/ipykernel/__main__.py:12: VisibleDeprecationWarning: using a non-integer number instead of an integer will result in an error in the future\n"
     ]
    }
   ],
   "source": [
    "def train_test_split_demo(x, y, degree, ratio, seed):\n",
    "    \"\"\"polynomial regression with different split ratios and different degrees.\"\"\"\n",
    "    x_data, x_test, y_data, y_test = split_data(x,y,ratio,seed)\n",
    "    \n",
    "    basis_matrix_data = build_poly(x_data, degree)\n",
    "    mse_data, w_data = least_squares(y_data, basis_matrix_data)\n",
    "    rmse_tr = math.sqrt(2*mse_data) #from tutorial pdf\n",
    "    \n",
    "    #we compute the MSE for test data, given TRAINING DATA weights\n",
    "    basis_matrix_test = build_poly(x_test, degree)\n",
    "    N = len(y_test)\n",
    "    mse_test = 1/(2*N)*np.sum((y_test- np.dot(basis_matrix_test,w_data))**2)\n",
    "    rmse_te = math.sqrt(2*mse_test)\n",
    "    print(\"proportion={p}, degree={d}, Training RMSE={tr:.3f}, Testing RMSE={te:.3f}\".format(\n",
    "          p=ratio, d=degree, tr=rmse_tr, te=rmse_te))\n",
    "\n",
    "seed = 6\n",
    "degrees = [1, 3, 7, 12]\n",
    "split_ratios = [0.9, 0.5, 0.1]\n",
    "\n",
    "for split_ratio in split_ratios:\n",
    "    for degree in degrees:\n",
    "        train_test_split_demo(x, y, degree, split_ratio, seed)"
   ]
  },
  {
   "cell_type": "markdown",
   "metadata": {},
   "source": [
    "# Ridge Regression\n",
    "Please fill in the function below."
   ]
  },
  {
   "cell_type": "code",
   "execution_count": 34,
   "metadata": {
    "collapsed": true
   },
   "outputs": [],
   "source": [
    "def ridge_regression(y, tx, lamb, degree):\n",
    "    \"\"\"implement ridge regression.\"\"\"\n",
    "    #same as before, we just added +lamb*np.identity\n",
    "    #remember: dimensionality is M+1!\n",
    "    w = np.dot(np.linalg.inv(np.dot(tx.T,tx)+lamb*np.identity(degree+1)) , np.dot(tx.T,y))\n",
    "    return w"
   ]
  },
  {
   "cell_type": "code",
   "execution_count": 37,
   "metadata": {
    "collapsed": false
   },
   "outputs": [
    {
     "name": "stdout",
     "output_type": "stream",
     "text": [
      "lamdba=0.001, proportion=0.5, degree=7, Training RMSE=0.234\n",
      "lamdba=0.003, proportion=0.5, degree=7, Training RMSE=0.238\n",
      "lamdba=0.008, proportion=0.5, degree=7, Training RMSE=0.243\n",
      "lamdba=0.022, proportion=0.5, degree=7, Training RMSE=0.246\n",
      "lamdba=0.060, proportion=0.5, degree=7, Training RMSE=0.248\n",
      "lamdba=0.167, proportion=0.5, degree=7, Training RMSE=0.249\n",
      "lamdba=0.464, proportion=0.5, degree=7, Training RMSE=0.250\n",
      "lamdba=1.292, proportion=0.5, degree=7, Training RMSE=0.253\n",
      "lamdba=3.594, proportion=0.5, degree=7, Training RMSE=0.265\n",
      "lamdba=10.000, proportion=0.5, degree=7, Training RMSE=0.299\n"
     ]
    },
    {
     "name": "stderr",
     "output_type": "stream",
     "text": [
      "/Users/bmagalha/anaconda/lib/python3.5/site-packages/ipykernel/__main__.py:9: VisibleDeprecationWarning: using a non-integer number instead of an integer will result in an error in the future\n",
      "/Users/bmagalha/anaconda/lib/python3.5/site-packages/ipykernel/__main__.py:10: VisibleDeprecationWarning: using a non-integer number instead of an integer will result in an error in the future\n",
      "/Users/bmagalha/anaconda/lib/python3.5/site-packages/ipykernel/__main__.py:11: VisibleDeprecationWarning: using a non-integer number instead of an integer will result in an error in the future\n",
      "/Users/bmagalha/anaconda/lib/python3.5/site-packages/ipykernel/__main__.py:12: VisibleDeprecationWarning: using a non-integer number instead of an integer will result in an error in the future\n"
     ]
    }
   ],
   "source": [
    "def ridge_regression_demo(x, y, degree, ratio, seed):\n",
    "    \"\"\"ridge regression demo.\"\"\"\n",
    "    # define parameter\n",
    "    lambdas = np.logspace(-3, 1, 10) #Reminder: lamda is a constant that defines how much we penalize the weights vector  \n",
    "    x_data, x_test, y_data, y_test = split_data(x,y,ratio,seed)\n",
    "\n",
    "    # ***************************************************\n",
    "    # form train and test data with polynomial basis function: TODO\n",
    "    # ***************************************************\n",
    "    basis_matrix_data = build_poly(x_data, degree)\n",
    "    N = len(y_data)\n",
    "    for idx, lamb in enumerate(lambdas):\n",
    "        w_data = ridge_regression(y_data, basis_matrix_data, lamb, degree)\n",
    "        mse_data = 1/(2*N)*np.sum((y_data- np.dot(basis_matrix_data,w_data))**2)\n",
    "        rmse_data = math.sqrt(2*mse_data)\n",
    "        print(\"lamdba={l:.3f}, proportion={p}, degree={d}, Training RMSE={tr:.3f}\".format(\n",
    "        l=lamb, p=ratio, d=degree, tr=rmse_data)) \n",
    "\n",
    "seed = 6\n",
    "degree = 7\n",
    "split_ratio = 0.5\n",
    "ridge_regression_demo(x, y, degree, split_ratio, seed)"
   ]
  },
  {
   "cell_type": "code",
   "execution_count": null,
   "metadata": {
    "collapsed": true
   },
   "outputs": [],
   "source": []
  }
 ],
 "metadata": {
  "anaconda-cloud": {},
  "kernelspec": {
   "display_name": "Python [Root]",
   "language": "python",
   "name": "Python [Root]"
  },
  "language_info": {
   "codemirror_mode": {
    "name": "ipython",
    "version": 3
   },
   "file_extension": ".py",
   "mimetype": "text/x-python",
   "name": "python",
   "nbconvert_exporter": "python",
   "pygments_lexer": "ipython3",
   "version": "3.5.2"
  }
 },
 "nbformat": 4,
 "nbformat_minor": 0
}
